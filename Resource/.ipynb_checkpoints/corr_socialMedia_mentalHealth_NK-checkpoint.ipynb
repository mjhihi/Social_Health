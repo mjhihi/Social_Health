{
 "cells": [
  {
   "cell_type": "markdown",
   "id": "d3ec0889",
   "metadata": {},
   "source": [
    "# Correlation between Social Media and Mental Health\n",
    "\n",
    "-  Datasource: https://www.kaggle.com/code/souvikahmed071/correlation-between-sm-and-mental-health/notebook\n",
    "-  Description of the dataset: \n",
    "    - Columns: Age, Gender, Relationship Status, Occupation Status, Affiliated Organizations, Social Medias used, time spent on socia media (in hours), 12 Likert scale based questions measuring either frequency or intensity of various aspects of mental health (1 being low frequency/intencity, 5 being high frequency/intensity). \n",
    "    - Nums of Observations: 481"
   ]
  },
  {
   "cell_type": "markdown",
   "id": "85ab9209",
   "metadata": {},
   "source": [
    "### Import libraries, load and check the dataset"
   ]
  },
  {
   "cell_type": "code",
   "execution_count": 5,
   "id": "c284da88",
   "metadata": {},
   "outputs": [],
   "source": [
    "# import libraries\n",
    "import pandas as pd\n",
    "import numpy as np\n",
    "import matplotlib.pyplot as plt\n",
    "import seaborn as sns\n",
    "\n",
    "## for building linear model\n",
    "from sklearn.linear_model import LinearRegression"
   ]
  },
  {
   "cell_type": "code",
   "execution_count": 6,
   "id": "90cf58ca",
   "metadata": {},
   "outputs": [
    {
     "ename": "FileNotFoundError",
     "evalue": "[Errno 2] No such file or directory: 'Resource/corr_socialMedia_mentalHealth.csv'",
     "output_type": "error",
     "traceback": [
      "\u001b[1;31m---------------------------------------------------------------------------\u001b[0m",
      "\u001b[1;31mFileNotFoundError\u001b[0m                         Traceback (most recent call last)",
      "Cell \u001b[1;32mIn[6], line 2\u001b[0m\n\u001b[0;32m      1\u001b[0m \u001b[38;5;66;03m# load data & chehck shape of the data\u001b[39;00m\n\u001b[1;32m----> 2\u001b[0m dat \u001b[38;5;241m=\u001b[39m pd\u001b[38;5;241m.\u001b[39mread_csv(\u001b[38;5;124m\"\u001b[39m\u001b[38;5;124mResource/corr_socialMedia_mentalHealth.csv\u001b[39m\u001b[38;5;124m\"\u001b[39m)\n\u001b[0;32m      3\u001b[0m \u001b[38;5;28mprint\u001b[39m(dat\u001b[38;5;241m.\u001b[39mshape)\n",
      "File \u001b[1;32m~\\OneDrive\\Documents\\Anaconda\\Lib\\site-packages\\pandas\\io\\parsers\\readers.py:912\u001b[0m, in \u001b[0;36mread_csv\u001b[1;34m(filepath_or_buffer, sep, delimiter, header, names, index_col, usecols, dtype, engine, converters, true_values, false_values, skipinitialspace, skiprows, skipfooter, nrows, na_values, keep_default_na, na_filter, verbose, skip_blank_lines, parse_dates, infer_datetime_format, keep_date_col, date_parser, date_format, dayfirst, cache_dates, iterator, chunksize, compression, thousands, decimal, lineterminator, quotechar, quoting, doublequote, escapechar, comment, encoding, encoding_errors, dialect, on_bad_lines, delim_whitespace, low_memory, memory_map, float_precision, storage_options, dtype_backend)\u001b[0m\n\u001b[0;32m    899\u001b[0m kwds_defaults \u001b[38;5;241m=\u001b[39m _refine_defaults_read(\n\u001b[0;32m    900\u001b[0m     dialect,\n\u001b[0;32m    901\u001b[0m     delimiter,\n\u001b[1;32m   (...)\u001b[0m\n\u001b[0;32m    908\u001b[0m     dtype_backend\u001b[38;5;241m=\u001b[39mdtype_backend,\n\u001b[0;32m    909\u001b[0m )\n\u001b[0;32m    910\u001b[0m kwds\u001b[38;5;241m.\u001b[39mupdate(kwds_defaults)\n\u001b[1;32m--> 912\u001b[0m \u001b[38;5;28;01mreturn\u001b[39;00m _read(filepath_or_buffer, kwds)\n",
      "File \u001b[1;32m~\\OneDrive\\Documents\\Anaconda\\Lib\\site-packages\\pandas\\io\\parsers\\readers.py:577\u001b[0m, in \u001b[0;36m_read\u001b[1;34m(filepath_or_buffer, kwds)\u001b[0m\n\u001b[0;32m    574\u001b[0m _validate_names(kwds\u001b[38;5;241m.\u001b[39mget(\u001b[38;5;124m\"\u001b[39m\u001b[38;5;124mnames\u001b[39m\u001b[38;5;124m\"\u001b[39m, \u001b[38;5;28;01mNone\u001b[39;00m))\n\u001b[0;32m    576\u001b[0m \u001b[38;5;66;03m# Create the parser.\u001b[39;00m\n\u001b[1;32m--> 577\u001b[0m parser \u001b[38;5;241m=\u001b[39m TextFileReader(filepath_or_buffer, \u001b[38;5;241m*\u001b[39m\u001b[38;5;241m*\u001b[39mkwds)\n\u001b[0;32m    579\u001b[0m \u001b[38;5;28;01mif\u001b[39;00m chunksize \u001b[38;5;129;01mor\u001b[39;00m iterator:\n\u001b[0;32m    580\u001b[0m     \u001b[38;5;28;01mreturn\u001b[39;00m parser\n",
      "File \u001b[1;32m~\\OneDrive\\Documents\\Anaconda\\Lib\\site-packages\\pandas\\io\\parsers\\readers.py:1407\u001b[0m, in \u001b[0;36mTextFileReader.__init__\u001b[1;34m(self, f, engine, **kwds)\u001b[0m\n\u001b[0;32m   1404\u001b[0m     \u001b[38;5;28mself\u001b[39m\u001b[38;5;241m.\u001b[39moptions[\u001b[38;5;124m\"\u001b[39m\u001b[38;5;124mhas_index_names\u001b[39m\u001b[38;5;124m\"\u001b[39m] \u001b[38;5;241m=\u001b[39m kwds[\u001b[38;5;124m\"\u001b[39m\u001b[38;5;124mhas_index_names\u001b[39m\u001b[38;5;124m\"\u001b[39m]\n\u001b[0;32m   1406\u001b[0m \u001b[38;5;28mself\u001b[39m\u001b[38;5;241m.\u001b[39mhandles: IOHandles \u001b[38;5;241m|\u001b[39m \u001b[38;5;28;01mNone\u001b[39;00m \u001b[38;5;241m=\u001b[39m \u001b[38;5;28;01mNone\u001b[39;00m\n\u001b[1;32m-> 1407\u001b[0m \u001b[38;5;28mself\u001b[39m\u001b[38;5;241m.\u001b[39m_engine \u001b[38;5;241m=\u001b[39m \u001b[38;5;28mself\u001b[39m\u001b[38;5;241m.\u001b[39m_make_engine(f, \u001b[38;5;28mself\u001b[39m\u001b[38;5;241m.\u001b[39mengine)\n",
      "File \u001b[1;32m~\\OneDrive\\Documents\\Anaconda\\Lib\\site-packages\\pandas\\io\\parsers\\readers.py:1661\u001b[0m, in \u001b[0;36mTextFileReader._make_engine\u001b[1;34m(self, f, engine)\u001b[0m\n\u001b[0;32m   1659\u001b[0m     \u001b[38;5;28;01mif\u001b[39;00m \u001b[38;5;124m\"\u001b[39m\u001b[38;5;124mb\u001b[39m\u001b[38;5;124m\"\u001b[39m \u001b[38;5;129;01mnot\u001b[39;00m \u001b[38;5;129;01min\u001b[39;00m mode:\n\u001b[0;32m   1660\u001b[0m         mode \u001b[38;5;241m+\u001b[39m\u001b[38;5;241m=\u001b[39m \u001b[38;5;124m\"\u001b[39m\u001b[38;5;124mb\u001b[39m\u001b[38;5;124m\"\u001b[39m\n\u001b[1;32m-> 1661\u001b[0m \u001b[38;5;28mself\u001b[39m\u001b[38;5;241m.\u001b[39mhandles \u001b[38;5;241m=\u001b[39m get_handle(\n\u001b[0;32m   1662\u001b[0m     f,\n\u001b[0;32m   1663\u001b[0m     mode,\n\u001b[0;32m   1664\u001b[0m     encoding\u001b[38;5;241m=\u001b[39m\u001b[38;5;28mself\u001b[39m\u001b[38;5;241m.\u001b[39moptions\u001b[38;5;241m.\u001b[39mget(\u001b[38;5;124m\"\u001b[39m\u001b[38;5;124mencoding\u001b[39m\u001b[38;5;124m\"\u001b[39m, \u001b[38;5;28;01mNone\u001b[39;00m),\n\u001b[0;32m   1665\u001b[0m     compression\u001b[38;5;241m=\u001b[39m\u001b[38;5;28mself\u001b[39m\u001b[38;5;241m.\u001b[39moptions\u001b[38;5;241m.\u001b[39mget(\u001b[38;5;124m\"\u001b[39m\u001b[38;5;124mcompression\u001b[39m\u001b[38;5;124m\"\u001b[39m, \u001b[38;5;28;01mNone\u001b[39;00m),\n\u001b[0;32m   1666\u001b[0m     memory_map\u001b[38;5;241m=\u001b[39m\u001b[38;5;28mself\u001b[39m\u001b[38;5;241m.\u001b[39moptions\u001b[38;5;241m.\u001b[39mget(\u001b[38;5;124m\"\u001b[39m\u001b[38;5;124mmemory_map\u001b[39m\u001b[38;5;124m\"\u001b[39m, \u001b[38;5;28;01mFalse\u001b[39;00m),\n\u001b[0;32m   1667\u001b[0m     is_text\u001b[38;5;241m=\u001b[39mis_text,\n\u001b[0;32m   1668\u001b[0m     errors\u001b[38;5;241m=\u001b[39m\u001b[38;5;28mself\u001b[39m\u001b[38;5;241m.\u001b[39moptions\u001b[38;5;241m.\u001b[39mget(\u001b[38;5;124m\"\u001b[39m\u001b[38;5;124mencoding_errors\u001b[39m\u001b[38;5;124m\"\u001b[39m, \u001b[38;5;124m\"\u001b[39m\u001b[38;5;124mstrict\u001b[39m\u001b[38;5;124m\"\u001b[39m),\n\u001b[0;32m   1669\u001b[0m     storage_options\u001b[38;5;241m=\u001b[39m\u001b[38;5;28mself\u001b[39m\u001b[38;5;241m.\u001b[39moptions\u001b[38;5;241m.\u001b[39mget(\u001b[38;5;124m\"\u001b[39m\u001b[38;5;124mstorage_options\u001b[39m\u001b[38;5;124m\"\u001b[39m, \u001b[38;5;28;01mNone\u001b[39;00m),\n\u001b[0;32m   1670\u001b[0m )\n\u001b[0;32m   1671\u001b[0m \u001b[38;5;28;01massert\u001b[39;00m \u001b[38;5;28mself\u001b[39m\u001b[38;5;241m.\u001b[39mhandles \u001b[38;5;129;01mis\u001b[39;00m \u001b[38;5;129;01mnot\u001b[39;00m \u001b[38;5;28;01mNone\u001b[39;00m\n\u001b[0;32m   1672\u001b[0m f \u001b[38;5;241m=\u001b[39m \u001b[38;5;28mself\u001b[39m\u001b[38;5;241m.\u001b[39mhandles\u001b[38;5;241m.\u001b[39mhandle\n",
      "File \u001b[1;32m~\\OneDrive\\Documents\\Anaconda\\Lib\\site-packages\\pandas\\io\\common.py:859\u001b[0m, in \u001b[0;36mget_handle\u001b[1;34m(path_or_buf, mode, encoding, compression, memory_map, is_text, errors, storage_options)\u001b[0m\n\u001b[0;32m    854\u001b[0m \u001b[38;5;28;01melif\u001b[39;00m \u001b[38;5;28misinstance\u001b[39m(handle, \u001b[38;5;28mstr\u001b[39m):\n\u001b[0;32m    855\u001b[0m     \u001b[38;5;66;03m# Check whether the filename is to be opened in binary mode.\u001b[39;00m\n\u001b[0;32m    856\u001b[0m     \u001b[38;5;66;03m# Binary mode does not support 'encoding' and 'newline'.\u001b[39;00m\n\u001b[0;32m    857\u001b[0m     \u001b[38;5;28;01mif\u001b[39;00m ioargs\u001b[38;5;241m.\u001b[39mencoding \u001b[38;5;129;01mand\u001b[39;00m \u001b[38;5;124m\"\u001b[39m\u001b[38;5;124mb\u001b[39m\u001b[38;5;124m\"\u001b[39m \u001b[38;5;129;01mnot\u001b[39;00m \u001b[38;5;129;01min\u001b[39;00m ioargs\u001b[38;5;241m.\u001b[39mmode:\n\u001b[0;32m    858\u001b[0m         \u001b[38;5;66;03m# Encoding\u001b[39;00m\n\u001b[1;32m--> 859\u001b[0m         handle \u001b[38;5;241m=\u001b[39m \u001b[38;5;28mopen\u001b[39m(\n\u001b[0;32m    860\u001b[0m             handle,\n\u001b[0;32m    861\u001b[0m             ioargs\u001b[38;5;241m.\u001b[39mmode,\n\u001b[0;32m    862\u001b[0m             encoding\u001b[38;5;241m=\u001b[39mioargs\u001b[38;5;241m.\u001b[39mencoding,\n\u001b[0;32m    863\u001b[0m             errors\u001b[38;5;241m=\u001b[39merrors,\n\u001b[0;32m    864\u001b[0m             newline\u001b[38;5;241m=\u001b[39m\u001b[38;5;124m\"\u001b[39m\u001b[38;5;124m\"\u001b[39m,\n\u001b[0;32m    865\u001b[0m         )\n\u001b[0;32m    866\u001b[0m     \u001b[38;5;28;01melse\u001b[39;00m:\n\u001b[0;32m    867\u001b[0m         \u001b[38;5;66;03m# Binary mode\u001b[39;00m\n\u001b[0;32m    868\u001b[0m         handle \u001b[38;5;241m=\u001b[39m \u001b[38;5;28mopen\u001b[39m(handle, ioargs\u001b[38;5;241m.\u001b[39mmode)\n",
      "\u001b[1;31mFileNotFoundError\u001b[0m: [Errno 2] No such file or directory: 'Resource/corr_socialMedia_mentalHealth.csv'"
     ]
    }
   ],
   "source": [
    "# load data & chehck shape of the data\n",
    "dat = pd.read_csv(\"Resource/corr_socialMedia_mentalHealth.csv\")\n",
    "print(dat.shape) # 27 cols & 481 obs. "
   ]
  },
  {
   "cell_type": "code",
   "execution_count": 8,
   "id": "ccf1ac4c",
   "metadata": {},
   "outputs": [
    {
     "ename": "NameError",
     "evalue": "name 'dat' is not defined",
     "output_type": "error",
     "traceback": [
      "\u001b[1;31m---------------------------------------------------------------------------\u001b[0m",
      "\u001b[1;31mNameError\u001b[0m                                 Traceback (most recent call last)",
      "Cell \u001b[1;32mIn[8], line 3\u001b[0m\n\u001b[0;32m      1\u001b[0m \u001b[38;5;66;03m# check dataset\u001b[39;00m\n\u001b[0;32m      2\u001b[0m pd\u001b[38;5;241m.\u001b[39mset_option(\u001b[38;5;124m\"\u001b[39m\u001b[38;5;124mdisplay.max_columns\u001b[39m\u001b[38;5;124m\"\u001b[39m, \u001b[38;5;28;01mNone\u001b[39;00m)\n\u001b[1;32m----> 3\u001b[0m dat\u001b[38;5;241m.\u001b[39mhead(\u001b[38;5;241m2\u001b[39m)\n",
      "\u001b[1;31mNameError\u001b[0m: name 'dat' is not defined"
     ]
    }
   ],
   "source": [
    "# check dataset\n",
    "pd.set_option(\"display.max_columns\", None)\n",
    "dat.head(2)"
   ]
  },
  {
   "cell_type": "markdown",
   "id": "809a3591",
   "metadata": {},
   "source": [
    "### Preprocessing & cleaning"
   ]
  },
  {
   "cell_type": "code",
   "execution_count": 9,
   "id": "17852f9b",
   "metadata": {},
   "outputs": [
    {
     "ename": "NameError",
     "evalue": "name 'dat' is not defined",
     "output_type": "error",
     "traceback": [
      "\u001b[1;31m---------------------------------------------------------------------------\u001b[0m",
      "\u001b[1;31mNameError\u001b[0m                                 Traceback (most recent call last)",
      "Cell \u001b[1;32mIn[9], line 2\u001b[0m\n\u001b[0;32m      1\u001b[0m \u001b[38;5;66;03m# check missing values\u001b[39;00m\n\u001b[1;32m----> 2\u001b[0m dat\u001b[38;5;241m.\u001b[39misna()\u001b[38;5;241m.\u001b[39many() \u001b[38;5;66;03m# there was one variable that had true values -- affiliated Organizations\u001b[39;00m\n\u001b[0;32m      4\u001b[0m \u001b[38;5;66;03m# total number of null values\u001b[39;00m\n\u001b[0;32m      5\u001b[0m dat\u001b[38;5;241m.\u001b[39misnull()\u001b[38;5;241m.\u001b[39msum()\n",
      "\u001b[1;31mNameError\u001b[0m: name 'dat' is not defined"
     ]
    }
   ],
   "source": [
    "# check missing values\n",
    "dat.isna().any() # there was one variable that had true values -- affiliated Organizations\n",
    "\n",
    "# total number of null values\n",
    "dat.isnull().sum() # 30 null values for affliated organizations, thus choose to drop the rows with null vals"
   ]
  },
  {
   "cell_type": "code",
   "execution_count": 10,
   "id": "9c7d9a6b",
   "metadata": {},
   "outputs": [
    {
     "ename": "NameError",
     "evalue": "name 'dat' is not defined",
     "output_type": "error",
     "traceback": [
      "\u001b[1;31m---------------------------------------------------------------------------\u001b[0m",
      "\u001b[1;31mNameError\u001b[0m                                 Traceback (most recent call last)",
      "Cell \u001b[1;32mIn[10], line 2\u001b[0m\n\u001b[0;32m      1\u001b[0m \u001b[38;5;66;03m# drop null values for affiliated organizations and created a new df (dat_dropNAs)\u001b[39;00m\n\u001b[1;32m----> 2\u001b[0m dat\u001b[38;5;241m.\u001b[39mdropna(inplace\u001b[38;5;241m=\u001b[39m\u001b[38;5;28;01mTrue\u001b[39;00m)\n",
      "\u001b[1;31mNameError\u001b[0m: name 'dat' is not defined"
     ]
    }
   ],
   "source": [
    "# drop null values for affiliated organizations and created a new df (dat_dropNAs)\n",
    "dat.dropna(inplace=True)"
   ]
  },
  {
   "cell_type": "code",
   "execution_count": 11,
   "id": "4d871b92",
   "metadata": {},
   "outputs": [
    {
     "ename": "NameError",
     "evalue": "name 'dat' is not defined",
     "output_type": "error",
     "traceback": [
      "\u001b[1;31m---------------------------------------------------------------------------\u001b[0m",
      "\u001b[1;31mNameError\u001b[0m                                 Traceback (most recent call last)",
      "Cell \u001b[1;32mIn[11], line 2\u001b[0m\n\u001b[0;32m      1\u001b[0m \u001b[38;5;66;03m# check to see if NAs are removed -- removed 30 obs that include NAs from affiliated organizations variable\u001b[39;00m\n\u001b[1;32m----> 2\u001b[0m dat\u001b[38;5;241m.\u001b[39misna()\u001b[38;5;241m.\u001b[39many()\n\u001b[0;32m      3\u001b[0m dat\u001b[38;5;241m.\u001b[39mshape\n",
      "\u001b[1;31mNameError\u001b[0m: name 'dat' is not defined"
     ]
    }
   ],
   "source": [
    "# check to see if NAs are removed -- removed 30 obs that include NAs from affiliated organizations variable\n",
    "dat.isna().any()\n",
    "dat.shape # now obs. is 451"
   ]
  },
  {
   "cell_type": "code",
   "execution_count": 12,
   "id": "8d85f14c",
   "metadata": {},
   "outputs": [
    {
     "ename": "NameError",
     "evalue": "name 'dat' is not defined",
     "output_type": "error",
     "traceback": [
      "\u001b[1;31m---------------------------------------------------------------------------\u001b[0m",
      "\u001b[1;31mNameError\u001b[0m                                 Traceback (most recent call last)",
      "Cell \u001b[1;32mIn[12], line 2\u001b[0m\n\u001b[0;32m      1\u001b[0m \u001b[38;5;66;03m# clean the column names \u001b[39;00m\n\u001b[1;32m----> 2\u001b[0m dat\u001b[38;5;241m.\u001b[39mrename(columns \u001b[38;5;241m=\u001b[39m {\u001b[38;5;124m'\u001b[39m\u001b[38;5;124mTimestamp\u001b[39m\u001b[38;5;124m'\u001b[39m:\u001b[38;5;124m'\u001b[39m\u001b[38;5;124mtimestamp\u001b[39m\u001b[38;5;124m'\u001b[39m,\n\u001b[0;32m      3\u001b[0m                       \u001b[38;5;124m'\u001b[39m\u001b[38;5;124m1. What is your age?\u001b[39m\u001b[38;5;124m'\u001b[39m:\u001b[38;5;124m'\u001b[39m\u001b[38;5;124mage\u001b[39m\u001b[38;5;124m'\u001b[39m,\n\u001b[0;32m      4\u001b[0m                       \u001b[38;5;124m'\u001b[39m\u001b[38;5;124m2. Gender\u001b[39m\u001b[38;5;124m'\u001b[39m:\u001b[38;5;124m'\u001b[39m\u001b[38;5;124msex\u001b[39m\u001b[38;5;124m'\u001b[39m,\n\u001b[0;32m      5\u001b[0m                       \u001b[38;5;124m'\u001b[39m\u001b[38;5;124m3. Relationship Status\u001b[39m\u001b[38;5;124m'\u001b[39m:\u001b[38;5;124m'\u001b[39m\u001b[38;5;124mrelation_status\u001b[39m\u001b[38;5;124m'\u001b[39m,\n\u001b[0;32m      6\u001b[0m                       \u001b[38;5;124m'\u001b[39m\u001b[38;5;124m4. Occupation Status\u001b[39m\u001b[38;5;124m'\u001b[39m:\u001b[38;5;124m'\u001b[39m\u001b[38;5;124moccupation\u001b[39m\u001b[38;5;124m'\u001b[39m,\n\u001b[0;32m      7\u001b[0m                       \u001b[38;5;124m'\u001b[39m\u001b[38;5;124m5. What type of organizations are you affiliated with?\u001b[39m\u001b[38;5;124m'\u001b[39m:\u001b[38;5;124m'\u001b[39m\u001b[38;5;124maffiliations\u001b[39m\u001b[38;5;124m'\u001b[39m,\n\u001b[0;32m      8\u001b[0m                       \u001b[38;5;124m'\u001b[39m\u001b[38;5;124m6. Do you use social media?\u001b[39m\u001b[38;5;124m'\u001b[39m:\u001b[38;5;124m'\u001b[39m\u001b[38;5;124msm_user\u001b[39m\u001b[38;5;124m'\u001b[39m,\n\u001b[0;32m      9\u001b[0m                       \u001b[38;5;124m'\u001b[39m\u001b[38;5;124m7. What social media platforms do you commonly use?\u001b[39m\u001b[38;5;124m'\u001b[39m:\u001b[38;5;124m'\u001b[39m\u001b[38;5;124mplatforms\u001b[39m\u001b[38;5;124m'\u001b[39m,\n\u001b[0;32m     10\u001b[0m                       \u001b[38;5;124m'\u001b[39m\u001b[38;5;124m8. What is the average time you spend on social media every day?\u001b[39m\u001b[38;5;124m'\u001b[39m:\u001b[38;5;124m'\u001b[39m\u001b[38;5;124mtime_spent\u001b[39m\u001b[38;5;124m'\u001b[39m,\n\u001b[0;32m     11\u001b[0m                       \u001b[38;5;124m'\u001b[39m\u001b[38;5;124m9. How often do you find yourself using Social media without a specific purpose?\u001b[39m\u001b[38;5;124m'\u001b[39m:\u001b[38;5;124m'\u001b[39m\u001b[38;5;124mADHD1\u001b[39m\u001b[38;5;124m'\u001b[39m,\n\u001b[0;32m     12\u001b[0m                       \u001b[38;5;124m'\u001b[39m\u001b[38;5;124m10. How often do you get distracted by Social media when you are busy doing something?\u001b[39m\u001b[38;5;124m'\u001b[39m:\u001b[38;5;124m'\u001b[39m\u001b[38;5;124mADHD2\u001b[39m\u001b[38;5;124m'\u001b[39m,\n\u001b[0;32m     13\u001b[0m                       \u001b[38;5;124m\"\u001b[39m\u001b[38;5;124m11. Do you feel restless if you haven\u001b[39m\u001b[38;5;124m'\u001b[39m\u001b[38;5;124mt used Social media in a while?\u001b[39m\u001b[38;5;124m\"\u001b[39m:\u001b[38;5;124m'\u001b[39m\u001b[38;5;124mAnxiety1\u001b[39m\u001b[38;5;124m'\u001b[39m,\n\u001b[0;32m     14\u001b[0m                       \u001b[38;5;124m'\u001b[39m\u001b[38;5;124m12. On a scale of 1 to 5, how easily distracted are you?\u001b[39m\u001b[38;5;124m'\u001b[39m:\u001b[38;5;124m'\u001b[39m\u001b[38;5;124mADHD3\u001b[39m\u001b[38;5;124m'\u001b[39m,\n\u001b[0;32m     15\u001b[0m                       \u001b[38;5;124m'\u001b[39m\u001b[38;5;124m13. On a scale of 1 to 5, how much are you bothered by worries?\u001b[39m\u001b[38;5;124m'\u001b[39m:\u001b[38;5;124m'\u001b[39m\u001b[38;5;124mAnxiety2\u001b[39m\u001b[38;5;124m'\u001b[39m,\n\u001b[0;32m     16\u001b[0m                       \u001b[38;5;124m'\u001b[39m\u001b[38;5;124m14. Do you find it difficult to concentrate on things?\u001b[39m\u001b[38;5;124m'\u001b[39m:\u001b[38;5;124m'\u001b[39m\u001b[38;5;124mADHD4\u001b[39m\u001b[38;5;124m'\u001b[39m,\n\u001b[0;32m     17\u001b[0m                       \u001b[38;5;124m'\u001b[39m\u001b[38;5;124m15. On a scale of 1-5, how often do you compare yourself to other successful people through the use of social media?\u001b[39m\u001b[38;5;124m'\u001b[39m:\u001b[38;5;124m'\u001b[39m\u001b[38;5;124mSelf_Esteem1\u001b[39m\u001b[38;5;124m'\u001b[39m,\n\u001b[0;32m     18\u001b[0m                       \u001b[38;5;124m'\u001b[39m\u001b[38;5;124m16. Following the previous question, how do you feel about these comparisons, generally speaking?\u001b[39m\u001b[38;5;124m'\u001b[39m:\u001b[38;5;124m'\u001b[39m\u001b[38;5;124mSelf_Esteem2\u001b[39m\u001b[38;5;124m'\u001b[39m,\n\u001b[0;32m     19\u001b[0m                       \u001b[38;5;124m'\u001b[39m\u001b[38;5;124m17. How often do you look to seek validation from features of social media?\u001b[39m\u001b[38;5;124m'\u001b[39m:\u001b[38;5;124m'\u001b[39m\u001b[38;5;124mSelf_Esteem3\u001b[39m\u001b[38;5;124m'\u001b[39m,\n\u001b[0;32m     20\u001b[0m                       \u001b[38;5;124m'\u001b[39m\u001b[38;5;124m18. How often do you feel depressed or down?\u001b[39m\u001b[38;5;124m'\u001b[39m:\u001b[38;5;124m'\u001b[39m\u001b[38;5;124mDepression1\u001b[39m\u001b[38;5;124m'\u001b[39m,\n\u001b[0;32m     21\u001b[0m                       \u001b[38;5;124m'\u001b[39m\u001b[38;5;124m19. On a scale of 1 to 5, how frequently does your interest in daily activities fluctuate?\u001b[39m\u001b[38;5;124m'\u001b[39m:\u001b[38;5;124m'\u001b[39m\u001b[38;5;124mDepression2\u001b[39m\u001b[38;5;124m'\u001b[39m,\n\u001b[0;32m     22\u001b[0m                       \u001b[38;5;124m'\u001b[39m\u001b[38;5;124m20. On a scale of 1 to 5, how often do you face issues regarding sleep?\u001b[39m\u001b[38;5;124m'\u001b[39m:\u001b[38;5;124m'\u001b[39m\u001b[38;5;124mDepression3\u001b[39m\u001b[38;5;124m'\u001b[39m },inplace\u001b[38;5;241m=\u001b[39m\u001b[38;5;28;01mTrue\u001b[39;00m)\n\u001b[0;32m     23\u001b[0m cols\u001b[38;5;241m=\u001b[39mdat\u001b[38;5;241m.\u001b[39mcolumns\u001b[38;5;241m.\u001b[39mtolist()\n\u001b[0;32m     24\u001b[0m cols\n",
      "\u001b[1;31mNameError\u001b[0m: name 'dat' is not defined"
     ]
    }
   ],
   "source": [
    "# clean the column names \n",
    "dat.rename(columns = {'Timestamp':'timestamp',\n",
    "                      '1. What is your age?':'age',\n",
    "                      '2. Gender':'sex',\n",
    "                      '3. Relationship Status':'relation_status',\n",
    "                      '4. Occupation Status':'occupation',\n",
    "                      '5. What type of organizations are you affiliated with?':'affiliations',\n",
    "                      '6. Do you use social media?':'sm_user',\n",
    "                      '7. What social media platforms do you commonly use?':'platforms',\n",
    "                      '8. What is the average time you spend on social media every day?':'time_spent',\n",
    "                      '9. How often do you find yourself using Social media without a specific purpose?':'ADHD1',\n",
    "                      '10. How often do you get distracted by Social media when you are busy doing something?':'ADHD2',\n",
    "                      \"11. Do you feel restless if you haven't used Social media in a while?\":'Anxiety1',\n",
    "                      '12. On a scale of 1 to 5, how easily distracted are you?':'ADHD3',\n",
    "                      '13. On a scale of 1 to 5, how much are you bothered by worries?':'Anxiety2',\n",
    "                      '14. Do you find it difficult to concentrate on things?':'ADHD4',\n",
    "                      '15. On a scale of 1-5, how often do you compare yourself to other successful people through the use of social media?':'Self_Esteem1',\n",
    "                      '16. Following the previous question, how do you feel about these comparisons, generally speaking?':'Self_Esteem2',\n",
    "                      '17. How often do you look to seek validation from features of social media?':'Self_Esteem3',\n",
    "                      '18. How often do you feel depressed or down?':'Depression1',\n",
    "                      '19. On a scale of 1 to 5, how frequently does your interest in daily activities fluctuate?':'Depression2',\n",
    "                      '20. On a scale of 1 to 5, how often do you face issues regarding sleep?':'Depression3' },inplace=True)\n",
    "cols=dat.columns.tolist()\n",
    "cols"
   ]
  },
  {
   "cell_type": "code",
   "execution_count": 13,
   "id": "c14898a9",
   "metadata": {},
   "outputs": [
    {
     "ename": "NameError",
     "evalue": "name 'dat' is not defined",
     "output_type": "error",
     "traceback": [
      "\u001b[1;31m---------------------------------------------------------------------------\u001b[0m",
      "\u001b[1;31mNameError\u001b[0m                                 Traceback (most recent call last)",
      "Cell \u001b[1;32mIn[13], line 2\u001b[0m\n\u001b[0;32m      1\u001b[0m \u001b[38;5;66;03m# create a unique IDs for individual observation (for creating four different datsets of mental health conditions)\u001b[39;00m\n\u001b[1;32m----> 2\u001b[0m dat[\u001b[38;5;124m'\u001b[39m\u001b[38;5;124mID\u001b[39m\u001b[38;5;124m'\u001b[39m] \u001b[38;5;241m=\u001b[39m \u001b[38;5;28mrange\u001b[39m(\u001b[38;5;241m1\u001b[39m, \u001b[38;5;28mlen\u001b[39m(dat) \u001b[38;5;241m+\u001b[39m \u001b[38;5;241m1\u001b[39m)\n\u001b[0;32m      3\u001b[0m dat\u001b[38;5;241m.\u001b[39mhead(\u001b[38;5;241m2\u001b[39m)\n",
      "\u001b[1;31mNameError\u001b[0m: name 'dat' is not defined"
     ]
    }
   ],
   "source": [
    "# create a unique IDs for individual observation (for creating four different datsets of mental health conditions)\n",
    "dat['ID'] = range(1, len(dat) + 1)\n",
    "dat.head(2)"
   ]
  },
  {
   "cell_type": "code",
   "execution_count": 14,
   "id": "6d99e6a4",
   "metadata": {},
   "outputs": [
    {
     "ename": "NameError",
     "evalue": "name 'dat' is not defined",
     "output_type": "error",
     "traceback": [
      "\u001b[1;31m---------------------------------------------------------------------------\u001b[0m",
      "\u001b[1;31mNameError\u001b[0m                                 Traceback (most recent call last)",
      "Cell \u001b[1;32mIn[14], line 24\u001b[0m\n\u001b[0;32m      1\u001b[0m \u001b[38;5;66;03m# rearrange the cols\u001b[39;00m\n\u001b[0;32m      2\u001b[0m new_cols \u001b[38;5;241m=\u001b[39m [\u001b[38;5;124m'\u001b[39m\u001b[38;5;124mID\u001b[39m\u001b[38;5;124m'\u001b[39m,\n\u001b[0;32m      3\u001b[0m  \u001b[38;5;124m'\u001b[39m\u001b[38;5;124mtimestamp\u001b[39m\u001b[38;5;124m'\u001b[39m,\n\u001b[0;32m      4\u001b[0m  \u001b[38;5;124m'\u001b[39m\u001b[38;5;124mage\u001b[39m\u001b[38;5;124m'\u001b[39m,\n\u001b[1;32m   (...)\u001b[0m\n\u001b[0;32m     22\u001b[0m  \u001b[38;5;124m'\u001b[39m\u001b[38;5;124mDepression2\u001b[39m\u001b[38;5;124m'\u001b[39m,\n\u001b[0;32m     23\u001b[0m  \u001b[38;5;124m'\u001b[39m\u001b[38;5;124mDepression3\u001b[39m\u001b[38;5;124m'\u001b[39m]\n\u001b[1;32m---> 24\u001b[0m dat \u001b[38;5;241m=\u001b[39m dat[new_cols]\n\u001b[0;32m     25\u001b[0m dat\u001b[38;5;241m.\u001b[39mhead(\u001b[38;5;241m2\u001b[39m)\n",
      "\u001b[1;31mNameError\u001b[0m: name 'dat' is not defined"
     ]
    }
   ],
   "source": [
    "# rearrange the cols\n",
    "new_cols = ['ID',\n",
    " 'timestamp',\n",
    " 'age',\n",
    " 'sex',\n",
    " 'relation_status',\n",
    " 'occupation',\n",
    " 'affiliations',\n",
    " 'sm_user',\n",
    " 'platforms',\n",
    " 'time_spent',\n",
    " 'ADHD1',\n",
    " 'ADHD2',\n",
    " 'ADHD3',\n",
    " 'ADHD4',\n",
    " 'Anxiety1',\n",
    " 'Anxiety2',\n",
    " 'Self_Esteem1',\n",
    " 'Self_Esteem2',\n",
    " 'Self_Esteem3',\n",
    " 'Depression1',\n",
    " 'Depression2',\n",
    " 'Depression3']\n",
    "dat = dat[new_cols]\n",
    "dat.head(2)"
   ]
  },
  {
   "cell_type": "code",
   "execution_count": 15,
   "id": "541d5006",
   "metadata": {
    "scrolled": true
   },
   "outputs": [
    {
     "ename": "NameError",
     "evalue": "name 'dat' is not defined",
     "output_type": "error",
     "traceback": [
      "\u001b[1;31m---------------------------------------------------------------------------\u001b[0m",
      "\u001b[1;31mNameError\u001b[0m                                 Traceback (most recent call last)",
      "Cell \u001b[1;32mIn[15], line 2\u001b[0m\n\u001b[0;32m      1\u001b[0m \u001b[38;5;66;03m# check the dtype of variables & convert dtypes of variables\u001b[39;00m\n\u001b[1;32m----> 2\u001b[0m dat\u001b[38;5;241m.\u001b[39minfo()\n\u001b[0;32m      4\u001b[0m \u001b[38;5;66;03m# given that the dtype of the timestamp variable is str in the dataset, convert the string vals to datetime object\u001b[39;00m\n\u001b[0;32m      5\u001b[0m dat[\u001b[38;5;124m'\u001b[39m\u001b[38;5;124mtimestamp\u001b[39m\u001b[38;5;124m'\u001b[39m] \u001b[38;5;241m=\u001b[39m pd\u001b[38;5;241m.\u001b[39mto_datetime(dat[\u001b[38;5;124m'\u001b[39m\u001b[38;5;124mtimestamp\u001b[39m\u001b[38;5;124m'\u001b[39m])\n",
      "\u001b[1;31mNameError\u001b[0m: name 'dat' is not defined"
     ]
    }
   ],
   "source": [
    "# check the dtype of variables & convert dtypes of variables\n",
    "dat.info()\n",
    "\n",
    "# given that the dtype of the timestamp variable is str in the dataset, convert the string vals to datetime object\n",
    "dat['timestamp'] = pd.to_datetime(dat['timestamp'])\n",
    "\n",
    "# convert dtype of age to integer\n",
    "dat['age'] = dat['age'].astype(int)\n",
    "\n",
    "# check dtypes of vars in the dataset\n",
    "dat.info()"
   ]
  },
  {
   "cell_type": "code",
   "execution_count": 16,
   "id": "d2c32859",
   "metadata": {},
   "outputs": [
    {
     "ename": "NameError",
     "evalue": "name 'dat' is not defined",
     "output_type": "error",
     "traceback": [
      "\u001b[1;31m---------------------------------------------------------------------------\u001b[0m",
      "\u001b[1;31mNameError\u001b[0m                                 Traceback (most recent call last)",
      "Cell \u001b[1;32mIn[16], line 2\u001b[0m\n\u001b[0;32m      1\u001b[0m \u001b[38;5;66;03m# Check the range of age data\u001b[39;00m\n\u001b[1;32m----> 2\u001b[0m ageMin\u001b[38;5;241m=\u001b[39mdat[\u001b[38;5;124m'\u001b[39m\u001b[38;5;124mage\u001b[39m\u001b[38;5;124m'\u001b[39m]\u001b[38;5;241m.\u001b[39mmin()\n\u001b[0;32m      3\u001b[0m ageMax\u001b[38;5;241m=\u001b[39mdat[\u001b[38;5;124m'\u001b[39m\u001b[38;5;124mage\u001b[39m\u001b[38;5;124m'\u001b[39m]\u001b[38;5;241m.\u001b[39mmax()\n\u001b[0;32m      4\u001b[0m (ageMin,ageMax)\n",
      "\u001b[1;31mNameError\u001b[0m: name 'dat' is not defined"
     ]
    }
   ],
   "source": [
    "# Check the range of age data\n",
    "ageMin=dat['age'].min()\n",
    "ageMax=dat['age'].max()\n",
    "(ageMin,ageMax)"
   ]
  },
  {
   "cell_type": "code",
   "execution_count": 17,
   "id": "84c87c8b",
   "metadata": {},
   "outputs": [
    {
     "ename": "NameError",
     "evalue": "name 'dat' is not defined",
     "output_type": "error",
     "traceback": [
      "\u001b[1;31m---------------------------------------------------------------------------\u001b[0m",
      "\u001b[1;31mNameError\u001b[0m                                 Traceback (most recent call last)",
      "Cell \u001b[1;32mIn[17], line 2\u001b[0m\n\u001b[0;32m      1\u001b[0m \u001b[38;5;66;03m# check sex data\u001b[39;00m\n\u001b[1;32m----> 2\u001b[0m dat[\u001b[38;5;124m'\u001b[39m\u001b[38;5;124msex\u001b[39m\u001b[38;5;124m'\u001b[39m]\u001b[38;5;241m.\u001b[39munique() \u001b[38;5;66;03m# ['Male', 'Female', 'Nonbinary', 'Non-binary', 'unsure', 'Non binary', 'There are others???']\u001b[39;00m\n\u001b[0;32m      4\u001b[0m \u001b[38;5;66;03m# drop obs. with 'There are others???' for sex\u001b[39;00m\n\u001b[0;32m      5\u001b[0m dat\u001b[38;5;241m.\u001b[39mdrop(dat\u001b[38;5;241m.\u001b[39mloc[dat[\u001b[38;5;124m'\u001b[39m\u001b[38;5;124msex\u001b[39m\u001b[38;5;124m'\u001b[39m] \u001b[38;5;241m==\u001b[39m\u001b[38;5;124m'\u001b[39m\u001b[38;5;124mThere are others???\u001b[39m\u001b[38;5;124m'\u001b[39m]\u001b[38;5;241m.\u001b[39mindex, inplace\u001b[38;5;241m=\u001b[39m\u001b[38;5;28;01mTrue\u001b[39;00m)\n",
      "\u001b[1;31mNameError\u001b[0m: name 'dat' is not defined"
     ]
    }
   ],
   "source": [
    "# check sex data\n",
    "dat['sex'].unique() # ['Male', 'Female', 'Nonbinary', 'Non-binary', 'unsure', 'Non binary', 'There are others???']\n",
    "\n",
    "# drop obs. with 'There are others???' for sex\n",
    "dat.drop(dat.loc[dat['sex'] =='There are others???'].index, inplace=True)\n",
    "\n",
    "# convert the values with 'Nonbinary', 'Non-binary', 'unsure', 'Non binary' to 'others'\n",
    "values_to_replace = ['Nonbinary', 'Non-binary', 'unsure', 'Non binary']\n",
    "\n",
    "# Replace values with 'Others'\n",
    "dat['sex'].replace(values_to_replace, 'Others', inplace=True)"
   ]
  },
  {
   "cell_type": "code",
   "execution_count": 18,
   "id": "79b0f419",
   "metadata": {},
   "outputs": [
    {
     "ename": "NameError",
     "evalue": "name 'dat' is not defined",
     "output_type": "error",
     "traceback": [
      "\u001b[1;31m---------------------------------------------------------------------------\u001b[0m",
      "\u001b[1;31mNameError\u001b[0m                                 Traceback (most recent call last)",
      "Cell \u001b[1;32mIn[18], line 2\u001b[0m\n\u001b[0;32m      1\u001b[0m \u001b[38;5;66;03m# check relation_status data  \u001b[39;00m\n\u001b[1;32m----> 2\u001b[0m dat[\u001b[38;5;124m'\u001b[39m\u001b[38;5;124mrelation_status\u001b[39m\u001b[38;5;124m'\u001b[39m]\u001b[38;5;241m.\u001b[39munique()\n\u001b[0;32m      4\u001b[0m \u001b[38;5;66;03m# replace \"In a relationship\" to \"Relationship\" to be consistent with other values (style-wise)\u001b[39;00m\n\u001b[0;32m      5\u001b[0m dat[\u001b[38;5;124m'\u001b[39m\u001b[38;5;124mrelation_status\u001b[39m\u001b[38;5;124m'\u001b[39m]\u001b[38;5;241m.\u001b[39mreplace(\u001b[38;5;124m'\u001b[39m\u001b[38;5;124mIn a relationship\u001b[39m\u001b[38;5;124m'\u001b[39m,\u001b[38;5;124m'\u001b[39m\u001b[38;5;124mRelationship\u001b[39m\u001b[38;5;124m'\u001b[39m, inplace\u001b[38;5;241m=\u001b[39m\u001b[38;5;28;01mTrue\u001b[39;00m)\n",
      "\u001b[1;31mNameError\u001b[0m: name 'dat' is not defined"
     ]
    }
   ],
   "source": [
    "# check relation_status data  \n",
    "dat['relation_status'].unique()\n",
    "\n",
    "# replace \"In a relationship\" to \"Relationship\" to be consistent with other values (style-wise)\n",
    "dat['relation_status'].replace('In a relationship','Relationship', inplace=True)"
   ]
  },
  {
   "cell_type": "code",
   "execution_count": 19,
   "id": "01d2f68f",
   "metadata": {},
   "outputs": [
    {
     "ename": "NameError",
     "evalue": "name 'dat' is not defined",
     "output_type": "error",
     "traceback": [
      "\u001b[1;31m---------------------------------------------------------------------------\u001b[0m",
      "\u001b[1;31mNameError\u001b[0m                                 Traceback (most recent call last)",
      "Cell \u001b[1;32mIn[19], line 2\u001b[0m\n\u001b[0;32m      1\u001b[0m \u001b[38;5;66;03m# label encoding for time_spent\u001b[39;00m\n\u001b[1;32m----> 2\u001b[0m dat[\u001b[38;5;124m'\u001b[39m\u001b[38;5;124mtime_spent\u001b[39m\u001b[38;5;124m'\u001b[39m]\u001b[38;5;241m.\u001b[39munique()\n\u001b[0;32m      4\u001b[0m category_mapping \u001b[38;5;241m=\u001b[39m {\n\u001b[0;32m      5\u001b[0m     \u001b[38;5;124m'\u001b[39m\u001b[38;5;124mLess than an Hour\u001b[39m\u001b[38;5;124m'\u001b[39m: \u001b[38;5;124m'\u001b[39m\u001b[38;5;124m0-1 hour\u001b[39m\u001b[38;5;124m'\u001b[39m,\n\u001b[0;32m      6\u001b[0m     \u001b[38;5;124m'\u001b[39m\u001b[38;5;124mBetween 1 and 2 hours\u001b[39m\u001b[38;5;124m'\u001b[39m: \u001b[38;5;124m'\u001b[39m\u001b[38;5;124m1-2 hours\u001b[39m\u001b[38;5;124m'\u001b[39m,\n\u001b[1;32m   (...)\u001b[0m\n\u001b[0;32m     10\u001b[0m     \u001b[38;5;124m'\u001b[39m\u001b[38;5;124mMore than 5 hours\u001b[39m\u001b[38;5;124m'\u001b[39m: \u001b[38;5;124m'\u001b[39m\u001b[38;5;124m5+ hours\u001b[39m\u001b[38;5;124m'\u001b[39m\n\u001b[0;32m     11\u001b[0m }\n\u001b[0;32m     13\u001b[0m \u001b[38;5;66;03m# Replace old categories with new categories\u001b[39;00m\n",
      "\u001b[1;31mNameError\u001b[0m: name 'dat' is not defined"
     ]
    }
   ],
   "source": [
    "# label encoding for time_spent\n",
    "dat['time_spent'].unique()\n",
    "\n",
    "category_mapping = {\n",
    "    'Less than an Hour': '0-1 hour',\n",
    "    'Between 1 and 2 hours': '1-2 hours',\n",
    "    'Between 2 and 3 hours': '2-3 hours',\n",
    "    'Between 3 and 4 hours': '3-4 hours',\n",
    "    'Between 4 and 5 hours': '4-5 hours',\n",
    "    'More than 5 hours': '5+ hours'\n",
    "}\n",
    "\n",
    "# Replace old categories with new categories\n",
    "dat['time_spent'].replace(category_mapping, inplace=True)\n",
    "\n",
    "dat['time_spent'].unique()"
   ]
  },
  {
   "cell_type": "code",
   "execution_count": 20,
   "id": "a3d28b81",
   "metadata": {},
   "outputs": [
    {
     "ename": "NameError",
     "evalue": "name 'dat' is not defined",
     "output_type": "error",
     "traceback": [
      "\u001b[1;31m---------------------------------------------------------------------------\u001b[0m",
      "\u001b[1;31mNameError\u001b[0m                                 Traceback (most recent call last)",
      "Cell \u001b[1;32mIn[20], line 2\u001b[0m\n\u001b[0;32m      1\u001b[0m \u001b[38;5;66;03m# check the dataset again\u001b[39;00m\n\u001b[1;32m----> 2\u001b[0m dat\u001b[38;5;241m.\u001b[39mhead(\u001b[38;5;241m3\u001b[39m)\n",
      "\u001b[1;31mNameError\u001b[0m: name 'dat' is not defined"
     ]
    }
   ],
   "source": [
    "# check the dataset again\n",
    "dat.head(3)"
   ]
  },
  {
   "cell_type": "markdown",
   "id": "bc5bb1db",
   "metadata": {},
   "source": [
    "### Create 4 new csv files (ADHD, Anxiety,Self_Esteem, Depression) -- WARNING: this section should NOT be run again since new csv files were already created"
   ]
  },
  {
   "cell_type": "code",
   "execution_count": 96,
   "id": "2af13b18",
   "metadata": {},
   "outputs": [],
   "source": [
    "# ADHD \n",
    "adhd_cols_to_keep = ['ID',\n",
    " 'timestamp',\n",
    " 'age',\n",
    " 'sex',\n",
    " 'relation_status',\n",
    " 'occupation',\n",
    " 'affiliations',\n",
    " 'sm_user',\n",
    " 'platforms',\n",
    " 'time_spent',\n",
    " 'ADHD1',\n",
    " 'ADHD2',\n",
    " 'ADHD3',\n",
    " 'ADHD4']\n",
    "\n",
    "# Create a subset df with the selected columns\n",
    "adhd = dat[adhd_cols_to_keep]\n",
    "\n",
    "# Save the adhd df to a CSV file\n",
    "adhd.to_csv('adhd.csv', index=False)"
   ]
  },
  {
   "cell_type": "code",
   "execution_count": 97,
   "id": "efabd96a",
   "metadata": {},
   "outputs": [],
   "source": [
    "# Anxiety \n",
    "anxiety_cols_to_keep = ['ID',\n",
    " 'timestamp',\n",
    " 'age',\n",
    " 'sex',\n",
    " 'relation_status',\n",
    " 'occupation',\n",
    " 'affiliations',\n",
    " 'sm_user',\n",
    " 'platforms',\n",
    " 'time_spent',\n",
    " 'Anxiety1',\n",
    " 'Anxiety2']\n",
    "\n",
    "# Create a subset df with the selected columns\n",
    "anxiety = dat[anxiety_cols_to_keep]\n",
    "\n",
    "# Save the adhd df to a CSV file\n",
    "anxiety.to_csv('anxiety.csv', index=False)"
   ]
  },
  {
   "cell_type": "code",
   "execution_count": 98,
   "id": "89141356",
   "metadata": {},
   "outputs": [],
   "source": [
    "# Self_Esteem \n",
    "selfEsteem_cols_to_keep = ['ID',\n",
    " 'timestamp',\n",
    " 'age',\n",
    " 'sex',\n",
    " 'relation_status',\n",
    " 'occupation',\n",
    " 'affiliations',\n",
    " 'sm_user',\n",
    " 'platforms',\n",
    " 'time_spent',\n",
    " 'Self_Esteem1',\n",
    " 'Self_Esteem2',\n",
    " 'Self_Esteem3']\n",
    "\n",
    "# Create a subset df with the selected columns\n",
    "self_esteem = dat[selfEsteem_cols_to_keep]\n",
    "\n",
    "# Save the adhd df to a CSV file\n",
    "self_esteem.to_csv('self_esteem.csv', index=False)"
   ]
  },
  {
   "cell_type": "code",
   "execution_count": 99,
   "id": "1a7d6eb9",
   "metadata": {},
   "outputs": [],
   "source": [
    "# Depression \n",
    "depression_cols_to_keep = ['ID',\n",
    " 'timestamp',\n",
    " 'age',\n",
    " 'sex',\n",
    " 'relation_status',\n",
    " 'occupation',\n",
    " 'affiliations',\n",
    " 'sm_user',\n",
    " 'platforms',\n",
    " 'time_spent',\n",
    " 'Depression1',\n",
    " 'Depression2',\n",
    " 'Depression3']\n",
    "\n",
    "# Create a subset df with the selected columns\n",
    "depression = dat[depression_cols_to_keep]\n",
    "\n",
    "# Save the adhd df to a CSV file\n",
    "depression.to_csv('depression.csv', index=False)"
   ]
  },
  {
   "cell_type": "markdown",
   "id": "62577587",
   "metadata": {},
   "source": [
    "### Explorative Analysis"
   ]
  },
  {
   "cell_type": "code",
   "execution_count": 18,
   "id": "cdf4d9a0",
   "metadata": {},
   "outputs": [
    {
     "data": {
      "text/html": [
       "<div>\n",
       "<style scoped>\n",
       "    .dataframe tbody tr th:only-of-type {\n",
       "        vertical-align: middle;\n",
       "    }\n",
       "\n",
       "    .dataframe tbody tr th {\n",
       "        vertical-align: top;\n",
       "    }\n",
       "\n",
       "    .dataframe thead th {\n",
       "        text-align: right;\n",
       "    }\n",
       "</style>\n",
       "<table border=\"1\" class=\"dataframe\">\n",
       "  <thead>\n",
       "    <tr style=\"text-align: right;\">\n",
       "      <th></th>\n",
       "      <th>ID</th>\n",
       "      <th>timestamp</th>\n",
       "      <th>age</th>\n",
       "      <th>sex</th>\n",
       "      <th>relation_status</th>\n",
       "      <th>occupation</th>\n",
       "      <th>affiliations</th>\n",
       "      <th>sm_user</th>\n",
       "      <th>platforms</th>\n",
       "      <th>time_spent</th>\n",
       "      <th>ADHD1</th>\n",
       "      <th>ADHD2</th>\n",
       "      <th>ADHD3</th>\n",
       "      <th>ADHD4</th>\n",
       "      <th>Anxiety1</th>\n",
       "      <th>Anxiety2</th>\n",
       "      <th>Self_Esteem1</th>\n",
       "      <th>Self_Esteem2</th>\n",
       "      <th>Self_Esteem3</th>\n",
       "      <th>Depression1</th>\n",
       "      <th>Depression2</th>\n",
       "      <th>Depression3</th>\n",
       "    </tr>\n",
       "  </thead>\n",
       "  <tbody>\n",
       "    <tr>\n",
       "      <th>0</th>\n",
       "      <td>1</td>\n",
       "      <td>2022-04-18 19:18:00</td>\n",
       "      <td>21</td>\n",
       "      <td>Male</td>\n",
       "      <td>Relationship</td>\n",
       "      <td>University Student</td>\n",
       "      <td>University</td>\n",
       "      <td>Yes</td>\n",
       "      <td>Facebook, Twitter, Instagram, YouTube, Discord...</td>\n",
       "      <td>2-3 hours</td>\n",
       "      <td>5</td>\n",
       "      <td>3</td>\n",
       "      <td>5</td>\n",
       "      <td>5</td>\n",
       "      <td>2</td>\n",
       "      <td>2</td>\n",
       "      <td>2</td>\n",
       "      <td>3</td>\n",
       "      <td>2</td>\n",
       "      <td>5</td>\n",
       "      <td>4</td>\n",
       "      <td>5</td>\n",
       "    </tr>\n",
       "    <tr>\n",
       "      <th>1</th>\n",
       "      <td>2</td>\n",
       "      <td>2022-04-18 19:19:00</td>\n",
       "      <td>21</td>\n",
       "      <td>Female</td>\n",
       "      <td>Single</td>\n",
       "      <td>University Student</td>\n",
       "      <td>University</td>\n",
       "      <td>Yes</td>\n",
       "      <td>Facebook, Twitter, Instagram, YouTube, Discord...</td>\n",
       "      <td>5+ hours</td>\n",
       "      <td>4</td>\n",
       "      <td>3</td>\n",
       "      <td>4</td>\n",
       "      <td>4</td>\n",
       "      <td>2</td>\n",
       "      <td>5</td>\n",
       "      <td>5</td>\n",
       "      <td>1</td>\n",
       "      <td>1</td>\n",
       "      <td>5</td>\n",
       "      <td>4</td>\n",
       "      <td>5</td>\n",
       "    </tr>\n",
       "  </tbody>\n",
       "</table>\n",
       "</div>"
      ],
      "text/plain": [
       "   ID           timestamp  age     sex relation_status          occupation  \\\n",
       "0   1 2022-04-18 19:18:00   21    Male    Relationship  University Student   \n",
       "1   2 2022-04-18 19:19:00   21  Female          Single  University Student   \n",
       "\n",
       "  affiliations sm_user                                          platforms  \\\n",
       "0   University     Yes  Facebook, Twitter, Instagram, YouTube, Discord...   \n",
       "1   University     Yes  Facebook, Twitter, Instagram, YouTube, Discord...   \n",
       "\n",
       "  time_spent  ADHD1  ADHD2  ADHD3  ADHD4  Anxiety1  Anxiety2  Self_Esteem1  \\\n",
       "0  2-3 hours      5      3      5      5         2         2             2   \n",
       "1   5+ hours      4      3      4      4         2         5             5   \n",
       "\n",
       "   Self_Esteem2  Self_Esteem3  Depression1  Depression2  Depression3  \n",
       "0             3             2            5            4            5  \n",
       "1             1             1            5            4            5  "
      ]
     },
     "execution_count": 18,
     "metadata": {},
     "output_type": "execute_result"
    }
   ],
   "source": [
    "# copy the 'dat' dataframe to 'dat1'for the purpose of explorative analysis -- create cols for mean scores of each mental health condition\n",
    "# (and also the 'dat' dataframe was used to create four new csv files, so creating a new dataframe 'dat1' for the new explorative analysis might be a good idea to reserve the original data)\n",
    "dat1 = dat.copy()\n",
    "dat1.head(2)"
   ]
  },
  {
   "cell_type": "code",
   "execution_count": 19,
   "id": "0a471eb9",
   "metadata": {},
   "outputs": [],
   "source": [
    "# due to the scale rating issues ragarding question2 for Self_Esteem (see details here, https://www.kaggle.com/code/souvikahmed071/correlation-between-sm-and-mental-health/notebook)\n",
    "# dropped the column of 'Self_Esteem2' from the dat1 df, before summing the scores for four conditions \n",
    "dat1.drop('Self_Esteem2', axis=1, inplace=True)"
   ]
  },
  {
   "cell_type": "code",
   "execution_count": 20,
   "id": "eebe4ccd",
   "metadata": {
    "scrolled": true
   },
   "outputs": [
    {
     "data": {
      "text/html": [
       "<div>\n",
       "<style scoped>\n",
       "    .dataframe tbody tr th:only-of-type {\n",
       "        vertical-align: middle;\n",
       "    }\n",
       "\n",
       "    .dataframe tbody tr th {\n",
       "        vertical-align: top;\n",
       "    }\n",
       "\n",
       "    .dataframe thead th {\n",
       "        text-align: right;\n",
       "    }\n",
       "</style>\n",
       "<table border=\"1\" class=\"dataframe\">\n",
       "  <thead>\n",
       "    <tr style=\"text-align: right;\">\n",
       "      <th></th>\n",
       "      <th>ID</th>\n",
       "      <th>timestamp</th>\n",
       "      <th>age</th>\n",
       "      <th>sex</th>\n",
       "      <th>relation_status</th>\n",
       "      <th>occupation</th>\n",
       "      <th>affiliations</th>\n",
       "      <th>sm_user</th>\n",
       "      <th>platforms</th>\n",
       "      <th>time_spent</th>\n",
       "      <th>ADHD1</th>\n",
       "      <th>ADHD2</th>\n",
       "      <th>ADHD3</th>\n",
       "      <th>ADHD4</th>\n",
       "      <th>Anxiety1</th>\n",
       "      <th>Anxiety2</th>\n",
       "      <th>Self_Esteem1</th>\n",
       "      <th>Self_Esteem3</th>\n",
       "      <th>Depression1</th>\n",
       "      <th>Depression2</th>\n",
       "      <th>Depression3</th>\n",
       "      <th>ADHD_score</th>\n",
       "      <th>Anxiety_score</th>\n",
       "      <th>SelfEsteem_score</th>\n",
       "      <th>Depression_score</th>\n",
       "      <th>total_score</th>\n",
       "    </tr>\n",
       "  </thead>\n",
       "  <tbody>\n",
       "    <tr>\n",
       "      <th>0</th>\n",
       "      <td>1</td>\n",
       "      <td>2022-04-18 19:18:00</td>\n",
       "      <td>21</td>\n",
       "      <td>Male</td>\n",
       "      <td>Relationship</td>\n",
       "      <td>University Student</td>\n",
       "      <td>University</td>\n",
       "      <td>Yes</td>\n",
       "      <td>Facebook, Twitter, Instagram, YouTube, Discord...</td>\n",
       "      <td>2-3 hours</td>\n",
       "      <td>5</td>\n",
       "      <td>3</td>\n",
       "      <td>5</td>\n",
       "      <td>5</td>\n",
       "      <td>2</td>\n",
       "      <td>2</td>\n",
       "      <td>2</td>\n",
       "      <td>2</td>\n",
       "      <td>5</td>\n",
       "      <td>4</td>\n",
       "      <td>5</td>\n",
       "      <td>18</td>\n",
       "      <td>4</td>\n",
       "      <td>4</td>\n",
       "      <td>14</td>\n",
       "      <td>40</td>\n",
       "    </tr>\n",
       "    <tr>\n",
       "      <th>1</th>\n",
       "      <td>2</td>\n",
       "      <td>2022-04-18 19:19:00</td>\n",
       "      <td>21</td>\n",
       "      <td>Female</td>\n",
       "      <td>Single</td>\n",
       "      <td>University Student</td>\n",
       "      <td>University</td>\n",
       "      <td>Yes</td>\n",
       "      <td>Facebook, Twitter, Instagram, YouTube, Discord...</td>\n",
       "      <td>5+ hours</td>\n",
       "      <td>4</td>\n",
       "      <td>3</td>\n",
       "      <td>4</td>\n",
       "      <td>4</td>\n",
       "      <td>2</td>\n",
       "      <td>5</td>\n",
       "      <td>5</td>\n",
       "      <td>1</td>\n",
       "      <td>5</td>\n",
       "      <td>4</td>\n",
       "      <td>5</td>\n",
       "      <td>15</td>\n",
       "      <td>7</td>\n",
       "      <td>6</td>\n",
       "      <td>14</td>\n",
       "      <td>42</td>\n",
       "    </tr>\n",
       "  </tbody>\n",
       "</table>\n",
       "</div>"
      ],
      "text/plain": [
       "   ID           timestamp  age     sex relation_status          occupation  \\\n",
       "0   1 2022-04-18 19:18:00   21    Male    Relationship  University Student   \n",
       "1   2 2022-04-18 19:19:00   21  Female          Single  University Student   \n",
       "\n",
       "  affiliations sm_user                                          platforms  \\\n",
       "0   University     Yes  Facebook, Twitter, Instagram, YouTube, Discord...   \n",
       "1   University     Yes  Facebook, Twitter, Instagram, YouTube, Discord...   \n",
       "\n",
       "  time_spent  ADHD1  ADHD2  ADHD3  ADHD4  Anxiety1  Anxiety2  Self_Esteem1  \\\n",
       "0  2-3 hours      5      3      5      5         2         2             2   \n",
       "1   5+ hours      4      3      4      4         2         5             5   \n",
       "\n",
       "   Self_Esteem3  Depression1  Depression2  Depression3  ADHD_score  \\\n",
       "0             2            5            4            5          18   \n",
       "1             1            5            4            5          15   \n",
       "\n",
       "   Anxiety_score  SelfEsteem_score  Depression_score  total_score  \n",
       "0              4                 4                14           40  \n",
       "1              7                 6                14           42  "
      ]
     },
     "execution_count": 20,
     "metadata": {},
     "output_type": "execute_result"
    }
   ],
   "source": [
    "# create columns for summed scores of ADHD, Anxiety, Self-Esteem, and Depression for each obs.\n",
    "groups = {\n",
    "    'ADHD': ['ADHD1', 'ADHD2', 'ADHD3', 'ADHD4'],\n",
    "    'Anxiety': ['Anxiety1', 'Anxiety2'],\n",
    "    'SelfEsteem': ['Self_Esteem1', 'Self_Esteem3'],\n",
    "    'Depression': ['Depression1', 'Depression2', 'Depression3']\n",
    "}\n",
    "\n",
    "# calculate the scores and add them to the 'dat1' df\n",
    "for group_name, columns in groups.items():\n",
    "    dat1[f'{group_name}_score'] = dat1[columns].sum(axis=1)\n",
    "\n",
    "# Calculate the Total Score\n",
    "dat1['total_score'] = dat1[[f'{group}_score' for group in groups]].sum(axis=1)\n",
    "\n",
    "# check all the calculated scores\n",
    "dat1.head(2)"
   ]
  },
  {
   "cell_type": "code",
   "execution_count": 21,
   "id": "89a6d9c3",
   "metadata": {},
   "outputs": [],
   "source": [
    "# create a new csv file 'dat1.csv' that includes additional data \n",
    "# (e.g., summed up scores for each mental health condition and total score)\n",
    "dat1.to_csv('dat1.csv', index=False)"
   ]
  },
  {
   "cell_type": "markdown",
   "id": "82bb5843",
   "metadata": {},
   "source": [
    "### Create 4 new csv files (ADHD, Anxiety,Self_Esteem, Depression) -- WARNING: this section should NOT be run again since new csv files were already created"
   ]
  },
  {
   "cell_type": "code",
   "execution_count": 22,
   "id": "bff8aec5",
   "metadata": {},
   "outputs": [],
   "source": [
    "# ADHD \n",
    "adhd_cols_to_keep = ['ID',\n",
    " 'timestamp',\n",
    " 'age',\n",
    " 'sex',\n",
    " 'relation_status',\n",
    " 'occupation',\n",
    " 'affiliations',\n",
    " 'sm_user',\n",
    " 'platforms',\n",
    " 'time_spent',\n",
    " 'ADHD1',\n",
    " 'ADHD2',\n",
    " 'ADHD3',\n",
    " 'ADHD4',\n",
    " 'ADHD_score']\n",
    "\n",
    "# Create a subset df with the selected columns\n",
    "adhd = dat1[adhd_cols_to_keep]\n",
    "\n",
    "# Save the adhd df to a CSV file\n",
    "adhd.to_csv('adhd.csv', index=False)"
   ]
  },
  {
   "cell_type": "code",
   "execution_count": 23,
   "id": "25af3a47",
   "metadata": {},
   "outputs": [],
   "source": [
    "# Anxiety \n",
    "anxiety_cols_to_keep = ['ID',\n",
    " 'timestamp',\n",
    " 'age',\n",
    " 'sex',\n",
    " 'relation_status',\n",
    " 'occupation',\n",
    " 'affiliations',\n",
    " 'sm_user',\n",
    " 'platforms',\n",
    " 'time_spent',\n",
    " 'Anxiety1',\n",
    " 'Anxiety2',\n",
    " 'Anxiety_score']\n",
    "\n",
    "# Create a subset df with the selected columns\n",
    "anxiety = dat1[anxiety_cols_to_keep]\n",
    "\n",
    "# Save the adhd df to a CSV file\n",
    "anxiety.to_csv('anxiety.csv', index=False)"
   ]
  },
  {
   "cell_type": "code",
   "execution_count": 25,
   "id": "8ac83bc9",
   "metadata": {},
   "outputs": [],
   "source": [
    "# Self_Esteem \n",
    "selfEsteem_cols_to_keep = ['ID',\n",
    " 'timestamp',\n",
    " 'age',\n",
    " 'sex',\n",
    " 'relation_status',\n",
    " 'occupation',\n",
    " 'affiliations',\n",
    " 'sm_user',\n",
    " 'platforms',\n",
    " 'time_spent',\n",
    " 'Self_Esteem1',\n",
    " 'Self_Esteem3',\n",
    " 'SelfEsteem_score']\n",
    "\n",
    "# Create a subset df with the selected columns\n",
    "self_esteem = dat1[selfEsteem_cols_to_keep]\n",
    "\n",
    "# Save the adhd df to a CSV file\n",
    "self_esteem.to_csv('self_esteem.csv', index=False)"
   ]
  },
  {
   "cell_type": "code",
   "execution_count": 26,
   "id": "1708ae5c",
   "metadata": {},
   "outputs": [],
   "source": [
    "# Depression \n",
    "depression_cols_to_keep = ['ID',\n",
    " 'timestamp',\n",
    " 'age',\n",
    " 'sex',\n",
    " 'relation_status',\n",
    " 'occupation',\n",
    " 'affiliations',\n",
    " 'sm_user',\n",
    " 'platforms',\n",
    " 'time_spent',\n",
    " 'Depression1',\n",
    " 'Depression2',\n",
    " 'Depression3',\n",
    " 'Depression_score']\n",
    "\n",
    "# Create a subset df with the selected columns\n",
    "depression = dat1[depression_cols_to_keep]\n",
    "\n",
    "# Save the adhd df to a CSV file\n",
    "depression.to_csv('depression.csv', index=False)"
   ]
  },
  {
   "cell_type": "code",
   "execution_count": null,
   "id": "90ae65b0",
   "metadata": {},
   "outputs": [],
   "source": [
    "# install Pygal for interactive bar or box plots between time_spent (independent var) vs. other dependent variables\n",
    "# time_spent vs. ADHD_score\n",
    "# time_spent vs. Anxiety_score\n",
    "# time_spent vs. SelfEsteem_score\n",
    "# time_spent vs. Depression_score\n"
   ]
  },
  {
   "cell_type": "code",
   "execution_count": 7,
   "id": "11706342",
   "metadata": {},
   "outputs": [
    {
     "ename": "NameError",
     "evalue": "name 'dat1' is not defined",
     "output_type": "error",
     "traceback": [
      "\u001b[1;31m---------------------------------------------------------------------------\u001b[0m",
      "\u001b[1;31mNameError\u001b[0m                                 Traceback (most recent call last)",
      "Cell \u001b[1;32mIn[7], line 5\u001b[0m\n\u001b[0;32m      1\u001b[0m \u001b[38;5;66;03m# correlation plots\u001b[39;00m\n\u001b[0;32m      2\u001b[0m \n\u001b[0;32m      3\u001b[0m \n\u001b[0;32m      4\u001b[0m \u001b[38;5;66;03m# Correlation matrix\u001b[39;00m\n\u001b[1;32m----> 5\u001b[0m corr_matrix \u001b[38;5;241m=\u001b[39m dat1[[\u001b[38;5;124m'\u001b[39m\u001b[38;5;124mtime_spent\u001b[39m\u001b[38;5;124m'\u001b[39m, \u001b[38;5;124m'\u001b[39m\u001b[38;5;124mADHD_score\u001b[39m\u001b[38;5;124m'\u001b[39m, \u001b[38;5;124m'\u001b[39m\u001b[38;5;124mAnxiety_score\u001b[39m\u001b[38;5;124m'\u001b[39m, \u001b[38;5;124m'\u001b[39m\u001b[38;5;124mSelfEsteem_score\u001b[39m\u001b[38;5;124m'\u001b[39m, \u001b[38;5;124m'\u001b[39m\u001b[38;5;124mDepression_score\u001b[39m\u001b[38;5;124m'\u001b[39m]]\u001b[38;5;241m.\u001b[39mcorr()\n\u001b[0;32m      7\u001b[0m \u001b[38;5;66;03m# Plotting heatmap\u001b[39;00m\n\u001b[0;32m      8\u001b[0m plt\u001b[38;5;241m.\u001b[39mfigure(figsize\u001b[38;5;241m=\u001b[39m(\u001b[38;5;241m10\u001b[39m, \u001b[38;5;241m8\u001b[39m))\n",
      "\u001b[1;31mNameError\u001b[0m: name 'dat1' is not defined"
     ]
    }
   ],
   "source": [
    "# correlation plots\n",
    "\n",
    "\n",
    "\n",
    "# A few examples to review monday \n",
    "\n",
    "\n",
    "\n",
    "# Correlation matrix\n",
    "corr_matrix = dat1[['time_spent', 'ADHD_score', 'Anxiety_score', 'SelfEsteem_score', 'Depression_score']].corr()\n",
    "\n",
    "# Plotting heatmap\n",
    "plt.figure(figsize=(10, 8))\n",
    "sns.heatmap(corr_matrix, annot=True, cmap='coolwarm', fmt=\".2f\", linewidths=0.5)\n",
    "plt.title('Correlation Matrix')\n",
    "plt.show()\n"
   ]
  },
  {
   "cell_type": "code",
   "execution_count": 21,
   "id": "488d7064",
   "metadata": {},
   "outputs": [
    {
     "ename": "NameError",
     "evalue": "name 'dat1' is not defined",
     "output_type": "error",
     "traceback": [
      "\u001b[1;31m---------------------------------------------------------------------------\u001b[0m",
      "\u001b[1;31mNameError\u001b[0m                                 Traceback (most recent call last)",
      "Cell \u001b[1;32mIn[21], line 5\u001b[0m\n\u001b[0;32m      2\u001b[0m selected_columns \u001b[38;5;241m=\u001b[39m [\u001b[38;5;124m'\u001b[39m\u001b[38;5;124mADHD1\u001b[39m\u001b[38;5;124m'\u001b[39m, \u001b[38;5;124m'\u001b[39m\u001b[38;5;124mADHD2\u001b[39m\u001b[38;5;124m'\u001b[39m, \u001b[38;5;124m'\u001b[39m\u001b[38;5;124mADHD3\u001b[39m\u001b[38;5;124m'\u001b[39m, \u001b[38;5;124m'\u001b[39m\u001b[38;5;124mADHD4\u001b[39m\u001b[38;5;124m'\u001b[39m, \u001b[38;5;124m'\u001b[39m\u001b[38;5;124mAnxiety1\u001b[39m\u001b[38;5;124m'\u001b[39m, \u001b[38;5;124m'\u001b[39m\u001b[38;5;124mAnxiety2\u001b[39m\u001b[38;5;124m'\u001b[39m, \u001b[38;5;124m'\u001b[39m\u001b[38;5;124mDepression1\u001b[39m\u001b[38;5;124m'\u001b[39m, \u001b[38;5;124m'\u001b[39m\u001b[38;5;124mDepression2\u001b[39m\u001b[38;5;124m'\u001b[39m, \u001b[38;5;124m'\u001b[39m\u001b[38;5;124mDepression3\u001b[39m\u001b[38;5;124m'\u001b[39m]\n\u001b[0;32m      4\u001b[0m \u001b[38;5;66;03m# Create a subset DataFrame with selected columns\u001b[39;00m\n\u001b[1;32m----> 5\u001b[0m subset_data \u001b[38;5;241m=\u001b[39m dat1[selected_columns]\n\u001b[0;32m      7\u001b[0m \u001b[38;5;66;03m# Calculate the correlation matrix using Pearson correlation\u001b[39;00m\n\u001b[0;32m      8\u001b[0m correlation_matrix \u001b[38;5;241m=\u001b[39m subset_data\u001b[38;5;241m.\u001b[39mcorr()\n",
      "\u001b[1;31mNameError\u001b[0m: name 'dat1' is not defined"
     ]
    }
   ],
   "source": [
    "# Select relevant columns related to social media usage and mental health\n",
    "selected_columns = ['ADHD1', 'ADHD2', 'ADHD3', 'ADHD4', 'Anxiety1', 'Anxiety2', 'Depression1', 'Depression2', 'Depression3']\n",
    "\n",
    "# Create a subset DataFrame with selected columns\n",
    "subset_data = dat1[selected_columns]\n",
    "\n",
    "# Calculate the correlation matrix using Pearson correlation\n",
    "correlation_matrix = subset_data.corr()\n",
    "\n",
    "# Create a heatmap to visualize the correlation matrix\n",
    "plt.figure(figsize=(10, 8))\n",
    "sns.heatmap(correlation_matrix, annot=True, cmap='coolwarm', fmt=\".2f\", linewidths=.5)\n",
    "labels = [label.replace(\" \", \"\\n\") for label in correlation_matrix.index]\n",
    "plt.xticks(ticks=np.arange(len(labels)), labels=labels, rotation=0, ha='center')\n",
    "plt.title('Correlation Between Social Media Usage and Mental Health')\n",
    "plt.show()\n",
    "\n",
    "\n",
    "#Notebook\n",
    "#https://www.kaggle.com/code/gbiplesh/data-analysis-social-media-and-mental-health/notebook"
   ]
  },
  {
   "cell_type": "code",
   "execution_count": null,
   "id": "2bcd1ce7",
   "metadata": {},
   "outputs": [],
   "source": [
    "# Select relevant columns related to social media usage and mental health\n",
    "selected_columns = ['ADHD1', 'ADHD2', 'ADHD3', 'ADHD4', 'Anxiety1', 'Anxiety2', 'Depression1', 'Depression2', 'Depression3']\n",
    "\n",
    "# Create a subset DataFrame with selected columns\n",
    "subset_data = dat1[selected_columns]\n",
    "\n",
    "# Calculate the correlation matrix using Pearson correlation\n",
    "correlation_matrix = subset_data.corr()\n",
    "\n",
    "# Create a heatmap to visualize the correlation matrix\n",
    "plt.figure(figsize=(10, 8))\n",
    "sns.heatmap(correlation_matrix, annot=True, cmap='coolwarm', fmt=\".2f\", linewidths=.5)\n",
    "labels = [label.replace(\" \", \"\\n\") for label in selected_columns]\n",
    "plt.xticks(ticks=np.arange(len(labels)), labels=labels, rotation=0, ha='center')\n",
    "plt.yticks(ticks=np.arange(len(labels)), labels=labels, rotation=0, va='center')\n",
    "plt.title('Pearson Correlation Coefficients')\n",
    "plt.show()\n",
    "\n",
    "# Calculate the p-values matrix\n",
    "p_values_matrix = subset_data.corr(method=lambda x, y: st.pearsonr(x, y)[1])\n",
    "\n",
    "# Create a heatmap to visualize the p-values\n",
    "plt.figure(figsize=(10, 8))\n",
    "sns.heatmap(p_values_matrix, annot=True, cmap='coolwarm', fmt=\".2f\", linewidths=.5)\n",
    "plt.xticks(ticks=np.arange(len(labels)), labels=labels, rotation=0, ha='center')\n",
    "plt.yticks(ticks=np.arange(len(labels)), labels=labels, rotation=0, va='center')\n",
    "plt.title('P-values')\n",
    "plt.show()\n",
    "\n",
    "\n",
    "#Chat-GTP for using correlation with seaborn"
   ]
  },
  {
   "cell_type": "code",
   "execution_count": null,
   "id": "cb2882ec",
   "metadata": {},
   "outputs": [],
   "source": [
    "# linear regression models"
   ]
  },
  {
   "cell_type": "code",
   "execution_count": null,
   "id": "9927f8c1",
   "metadata": {},
   "outputs": [],
   "source": [
    "# frequency of social media usage\n",
    "\n",
    "# Question 7: What social media platforms do you commonly use?\n",
    "platform_counts = dat['platforms'].str.split(', ', expand=True).stack().value_counts()\n",
    "platform_counts.plot(kind='bar')\n",
    "plt.title('Social Media Platform Usage')\n",
    "plt.xlabel('Social Media Platform')\n",
    "plt.ylabel('Count')\n",
    "plt.show()\n",
    "\n",
    "# Question 8: What is the average time you spend on social media every day?\n",
    "# Convert time_spent to categorical data to ensure correct ordering\n",
    "time_order = ['0-1 hour', '1-2 hours', '2-3 hours', '3-4 hours', '4-5 hours', '5+ hours']\n",
    "dat['time_spent'] = pd.Categorical(dat['time_spent'], categories=time_order, ordered=True)\n",
    "\n",
    "average_time_mean = dat['time_spent'].mean()\n",
    "average_time_median = dat['time_spent'].median()\n",
    "average_counts = dat['time_spent'].value_counts()\n",
    "average_counts.plot(kind='barh')\n",
    "plt.title('Average Time Spend in a Day')\n",
    "plt.xlabel('Count')\n",
    "plt.ylabel('Time Spent')\n",
    "plt.show()\n",
    "\n",
    "print(f\"Mean Average Time: {average_time_mean} hours\")\n",
    "print(f\"Median Average Time: {average_time_median} hours\")\n",
    "\n",
    "\n",
    "#Notebook \n",
    "#https://www.kaggle.com/code/gbiplesh/data-analysis-social-media-and-mental-health/notebook\n"
   ]
  },
  {
   "cell_type": "code",
   "execution_count": null,
   "id": "6875e27d",
   "metadata": {},
   "outputs": [],
   "source": [
    "# scatter plot link\n",
    "#https://www.kaggle.com/code/serenahinton/social-media-and-mental-health-analysis"
   ]
  },
  {
   "cell_type": "code",
   "execution_count": null,
   "id": "939a1bc5",
   "metadata": {},
   "outputs": [],
   "source": [
    "#last update to notebook\n",
    "# I'll add jupyter notebooks for the other csv files to avoid being more messy then we can integrate \n",
    "# Katherine-pushing 4/6/2024 - 8:07pm"
   ]
  }
 ],
 "metadata": {
  "kernelspec": {
   "display_name": "Python 3 (ipykernel)",
   "language": "python",
   "name": "python3"
  },
  "language_info": {
   "codemirror_mode": {
    "name": "ipython",
    "version": 3
   },
   "file_extension": ".py",
   "mimetype": "text/x-python",
   "name": "python",
   "nbconvert_exporter": "python",
   "pygments_lexer": "ipython3",
   "version": "3.11.5"
  }
 },
 "nbformat": 4,
 "nbformat_minor": 5
}
