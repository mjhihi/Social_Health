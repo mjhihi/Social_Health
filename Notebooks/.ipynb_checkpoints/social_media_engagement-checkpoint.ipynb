{
 "cells": [
  {
   "cell_type": "markdown",
   "id": "d3ec0889",
   "metadata": {},
   "source": [
    "# Social media influncers in youtube, instagram and tiktok\n",
    "\n",
    "-  Datasource: https://www.kaggle.com/code/amandabalay/instagram-data-analysis-using-python; https://www.kaggle.com/code/rimmelasghar/eda-on-tiktok/notebook; https://www.kaggle.com/code/mitrajitkamble/social-media-influncers\n",
    "-https://github.com/TAINGL/Youtube-Trends/blob/master/README.md"
   ]
  },
  {
   "cell_type": "markdown",
   "id": "85ab9209",
   "metadata": {},
   "source": [
    "### Import libraries, load and check the dataset"
   ]
  },
  {
   "cell_type": "code",
   "execution_count": 1,
   "id": "c284da88",
   "metadata": {},
   "outputs": [],
   "source": [
    "# import libraries\n",
    "import pandas as pd\n",
    "import numpy as np\n",
    "import matplotlib.pyplot as plt\n",
    "import seaborn as sns\n"
   ]
  },
  {
   "cell_type": "code",
   "execution_count": 2,
   "id": "90cf58ca",
   "metadata": {},
   "outputs": [
    {
     "name": "stdout",
     "output_type": "stream",
     "text": [
      "(481, 21)\n"
     ]
    }
   ],
   "source": [
    "# load data & chehck shape of the data\n",
    " = pd.read_csv(\"Resource/social_media_engagement/<>.csv\")\n",
    "#print(dat.shape) # 27 cols & 481 obs. "
   ]
  },
  {
   "cell_type": "code",
   "execution_count": null,
   "id": "86867029",
   "metadata": {},
   "outputs": [],
   "source": []
  }
 ],
 "metadata": {
  "kernelspec": {
   "display_name": "Python 3 (ipykernel)",
   "language": "python",
   "name": "python3"
  },
  "language_info": {
   "codemirror_mode": {
    "name": "ipython",
    "version": 3
   },
   "file_extension": ".py",
   "mimetype": "text/x-python",
   "name": "python",
   "nbconvert_exporter": "python",
   "pygments_lexer": "ipython3",
   "version": "3.11.5"
  }
 },
 "nbformat": 4,
 "nbformat_minor": 5
}
